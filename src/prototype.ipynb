{
 "cells": [
  {
   "cell_type": "markdown",
   "metadata": {},
   "source": [
    "# Goal: Reproduce Attention is All You Need"
   ]
  },
  {
   "cell_type": "markdown",
   "metadata": {},
   "source": [
    "## Dataset\n",
    "\n",
    "Prototyping with the most popular translation dataset on HuggingFace: [opus100](https://huggingface.co/datasets/opus100)"
   ]
  },
  {
   "cell_type": "code",
   "execution_count": 5,
   "metadata": {},
   "outputs": [],
   "source": [
    "from datasets import load_dataset\n",
    "\n",
    "\n",
    "dataset = load_dataset('opus100', 'en-zh')"
   ]
  },
  {
   "cell_type": "code",
   "execution_count": 23,
   "metadata": {},
   "outputs": [
    {
     "name": "stdout",
     "output_type": "stream",
     "text": [
      "test: 2000 entries\n",
      "train: 1000000 entries\n",
      "validation: 2000 entries\n",
      "test:\n",
      "#1\n",
      "The Global Programme of Action Coordination Office, with the financial support of Belgium, is currently assisting Egypt, Nigeria, United Republic of Tanzania, Sri Lanka and Yemen to develop pilot national programmes of action for the protection of the marine environment from land-based activities.\n",
      "9. 《全球行动纲领》协调处得到比利时的财政支持，目前正帮助埃及、尼日利亚、坦桑尼亚联合共和国、斯里兰卡和也门制订试行的保护海洋环境免受陆地活动影响的国家行动方案。\n",
      "#2\n",
      "The forum produced business contracts amounting to more than $24 million between Asian and African private companies.\n",
      "该论坛达成的亚洲和非洲国家私营公司间的商业合同超过了2,400万美元。\n",
      "#3\n",
      "But, during the 1990’s, and for reasons that are still notfully understood, the virus exploded into the general population.The number of infected South Africans (equivalent to the populationof Denmark) outstrips that of neighboring Mozambique, Lesotho,Botswana, Namibia, Swaziland, and Zimbabwe combined.\n",
      "艾滋病来势汹汹及其传染速度让很多南非人意想不到。像发达国家一样，艾滋病毒感染最初集中在血友病患者、性活跃同性恋者以及静脉注射吸毒人员中。但20世纪90年代某种未知原因导致公众病毒感染率暴增。被病毒感染的南非民众数量（相当于丹麦全国人口）超过了相邻莫桑比克、莱索托、博茨瓦纳、纳米比亚、斯威士兰和津巴布韦的总和。\n",
      "#4\n",
      "Not since the inception of its mandate in 1968 has the Committee ever confronted such anger and misery among the Palestinian people and other Arabs in occupied territories and disrespect for their basic human rights and fundamental freedoms.\n",
      "大概自1968年委员会开始执行其任务以来，委员会从未遇到被占领土内的巴勒斯坦人和其他阿拉伯人如此愤怒和悲惨过，以及其基本人权和基本自由如此不受尊重。\n",
      "#5\n",
      "“6. Also welcomes the aspiration of the countries with economies in transition towards the further development of regional, subregional and interregional cooperation, and invites the United Nations system to enhance dialogue with and increase support to the regional and subregional cooperation organizations whose membership includes the countries with economies in transition;\n",
      "“6.　又欢迎经济转型国家渴望进一步开展区域、次区域和区域间合作，请联合国系统加强同其成员包括经济转型国家的各区域和次区域合作组织的对话，并增加对它们的支助；\n",
      "train:\n",
      "#1\n",
      "Sixty-first session\n",
      "第六十一届会议\n",
      "#2\n",
      "I took some medicine for my mu for my mu my muscular for my muscular...\n",
      "减轻酸... 酸痛的药 减轻酸痛的药\n",
      "#3\n",
      "It's a challenge. God is challenging you. He's calling you a chump.\n",
      "上帝在挑战你，他说你是笨蛋\n",
      "#4\n",
      "Oh, baby.\n",
      ".. 寶貝\n",
      "#5\n",
      "- Lucinda?\n",
      "- 盧辛達？\n",
      "validation:\n",
      "#1\n",
      "ILOAT, however, appeared to have the edge over UNAT.\n",
      "然而，劳工组织行政法庭相对于联合国行政法庭似乎有些优势。\n",
      "#2\n",
      "Tell you what. I can give you a ride to Belle's, a diner five miles down.\n",
      "这样吧，我载你们到5英里外的贝拉餐厅\n",
      "#3\n",
      "A/AC.154/363 Letter dated 20 September 2005 from the Permanent Representative of the United States of America to the United Nations addressed to the Chairman of the Committee [A C E F R S]\n",
      "A/AC.154/363 2005年9月20日美利坚合众国常驻联合国代表给委员会主席的信 [阿、中、英、法、俄、西]\n",
      "#4\n",
      "He's in jail. Maximum security, for Christ's sake.\n",
      "- 他人在戒备森严的牢里\n",
      "#5\n",
      "Throughout the nineteenth century and in the first half of the twentieth, as we heard earlier, over 60 million Europeans emigrated, primarily to the Americas — I repeat, 60 million.\n",
      "在整个十九世纪和二十世纪上半叶，正如我们先前听到的那样，有6 000多万欧洲人移民海外，主要移向美洲——我重复一遍，6 000万。\n"
     ]
    }
   ],
   "source": [
    "# probe the dataset\n",
    "for key in dataset:\n",
    "    print(f\"{key}: {len(dataset[key])} entries\")\n",
    "# print the first 5 entries\n",
    "for key in dataset:\n",
    "    print(f\"{key}:\")\n",
    "    for i in range(5):\n",
    "        print(f\"#{i+1}\")\n",
    "        translation = dataset[key][i][\"translation\"]\n",
    "        print(translation[\"en\"])\n",
    "        print(translation[\"zh\"])"
   ]
  },
  {
   "cell_type": "code",
   "execution_count": null,
   "metadata": {},
   "outputs": [],
   "source": []
  }
 ],
 "metadata": {
  "kernelspec": {
   "display_name": "learn-transformer",
   "language": "python",
   "name": "python3"
  },
  "language_info": {
   "codemirror_mode": {
    "name": "ipython",
    "version": 3
   },
   "file_extension": ".py",
   "mimetype": "text/x-python",
   "name": "python",
   "nbconvert_exporter": "python",
   "pygments_lexer": "ipython3",
   "version": "3.10.12"
  },
  "orig_nbformat": 4
 },
 "nbformat": 4,
 "nbformat_minor": 2
}
