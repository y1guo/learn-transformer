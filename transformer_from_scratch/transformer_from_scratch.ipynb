{
 "cells": [
  {
   "cell_type": "markdown",
   "metadata": {},
   "source": [
    "# Reproduce Transformer from Attention is All You Need"
   ]
  },
  {
   "cell_type": "markdown",
   "metadata": {},
   "source": [
    "## Preliminaries"
   ]
  },
  {
   "cell_type": "code",
   "execution_count": 1,
   "metadata": {},
   "outputs": [
    {
     "name": "stdout",
     "output_type": "stream",
     "text": [
      "Number of processors:  32\n",
      "Device:  cuda\n"
     ]
    }
   ],
   "source": [
    "%load_ext autoreload\n",
    "%autoreload 2\n",
    "import numpy as np\n",
    "import torch\n",
    "from torch import nn\n",
    "from dataset import Dataset\n",
    "from tokenizer import get_tokenizer\n",
    "from utils import NUM_PROC, DEVICE, free_memory\n",
    "from model import TransformerModel\n",
    "from transformer import Transformer\n",
    "\n",
    "\n",
    "print(\"Number of processors: \", NUM_PROC)\n",
    "print(\"Device: \", DEVICE)"
   ]
  },
  {
   "cell_type": "markdown",
   "metadata": {},
   "source": [
    "## Transformer Lite from Scratch\n",
    "\n",
    "Using half the dimension as the base model: $d_{\\rm model} = 256$, $d_{\\rm ff} = 1024$. "
   ]
  },
  {
   "cell_type": "markdown",
   "metadata": {},
   "source": [
    "### Tokenizer\n",
    "\n",
    "Byte-Pair Encoding with shared (English + German) vocabulary of 37000 tokens."
   ]
  },
  {
   "cell_type": "code",
   "execution_count": 2,
   "metadata": {},
   "outputs": [
    {
     "name": "stdout",
     "output_type": "stream",
     "text": [
      "Loaded tokenizer from ../tokenizer-wmt14-de-en.json\n"
     ]
    }
   ],
   "source": [
    "tokenizer = get_tokenizer(name=\"wmt14\", language=\"de-en\", vocab_size=37000)"
   ]
  },
  {
   "cell_type": "markdown",
   "metadata": {},
   "source": [
    "### Dataset\n",
    "\n",
    "The dataset is downloaded at ~/.cache/huggingface/datasets/. I've turned off dataset caching to avoid disk explosion."
   ]
  },
  {
   "cell_type": "code",
   "execution_count": 10,
   "metadata": {},
   "outputs": [],
   "source": [
    "dataset = Dataset(name=\"wmt14\", language=\"de-en\", percentage=100)"
   ]
  },
  {
   "cell_type": "code",
   "execution_count": 11,
   "metadata": {},
   "outputs": [
    {
     "data": {
      "application/vnd.jupyter.widget-view+json": {
       "model_id": "760d6fa56379414ab3a6c6cc55c4e65b",
       "version_major": 2,
       "version_minor": 0
      },
      "text/plain": [
       "Map (num_proc=32):   0%|          | 0/45088 [00:00<?, ? examples/s]"
      ]
     },
     "metadata": {},
     "output_type": "display_data"
    },
    {
     "data": {
      "application/vnd.jupyter.widget-view+json": {
       "model_id": "64998f299d854258baa836bf5a2013ac",
       "version_major": 2,
       "version_minor": 0
      },
      "text/plain": [
       "Map (num_proc=32):   0%|          | 0/3000 [00:00<?, ? examples/s]"
      ]
     },
     "metadata": {},
     "output_type": "display_data"
    },
    {
     "data": {
      "application/vnd.jupyter.widget-view+json": {
       "model_id": "80180ff2803b4e638327cd1729a92507",
       "version_major": 2,
       "version_minor": 0
      },
      "text/plain": [
       "Map (num_proc=32):   0%|          | 0/3003 [00:00<?, ? examples/s]"
      ]
     },
     "metadata": {},
     "output_type": "display_data"
    }
   ],
   "source": [
    "dataset.tokenize(tokenizer)"
   ]
  },
  {
   "cell_type": "code",
   "execution_count": 12,
   "metadata": {},
   "outputs": [
    {
     "data": {
      "application/vnd.jupyter.widget-view+json": {
       "model_id": "de4339d6f7cc499c90923f599e307e43",
       "version_major": 2,
       "version_minor": 0
      },
      "text/plain": [
       "Filter:   0%|          | 0/45088 [00:00<?, ? examples/s]"
      ]
     },
     "metadata": {},
     "output_type": "display_data"
    },
    {
     "data": {
      "application/vnd.jupyter.widget-view+json": {
       "model_id": "ce99ad43e4cd44768de16ccb147909e5",
       "version_major": 2,
       "version_minor": 0
      },
      "text/plain": [
       "Map (num_proc=32):   0%|          | 0/45088 [00:00<?, ? examples/s]"
      ]
     },
     "metadata": {},
     "output_type": "display_data"
    },
    {
     "data": {
      "application/vnd.jupyter.widget-view+json": {
       "model_id": "12cfc662f1b34edbbad021960baf7f0f",
       "version_major": 2,
       "version_minor": 0
      },
      "text/plain": [
       "Filter:   0%|          | 0/3000 [00:00<?, ? examples/s]"
      ]
     },
     "metadata": {},
     "output_type": "display_data"
    },
    {
     "data": {
      "application/vnd.jupyter.widget-view+json": {
       "model_id": "a4f2bd111c7645e496f733ba9c6c6cb7",
       "version_major": 2,
       "version_minor": 0
      },
      "text/plain": [
       "Map (num_proc=32):   0%|          | 0/3000 [00:00<?, ? examples/s]"
      ]
     },
     "metadata": {},
     "output_type": "display_data"
    },
    {
     "data": {
      "application/vnd.jupyter.widget-view+json": {
       "model_id": "7b1653e27e0043e6aae6804a27bc449c",
       "version_major": 2,
       "version_minor": 0
      },
      "text/plain": [
       "Filter:   0%|          | 0/3003 [00:00<?, ? examples/s]"
      ]
     },
     "metadata": {},
     "output_type": "display_data"
    },
    {
     "data": {
      "application/vnd.jupyter.widget-view+json": {
       "model_id": "dda0988e4a5d413c9114269013bec1b4",
       "version_major": 2,
       "version_minor": 0
      },
      "text/plain": [
       "Map (num_proc=32):   0%|          | 0/3003 [00:00<?, ? examples/s]"
      ]
     },
     "metadata": {},
     "output_type": "display_data"
    }
   ],
   "source": [
    "dataloader = {}\n",
    "for split in [\"train\", \"validation\", \"test\"]:\n",
    "    dataloader[split] = dataset.get_dataloader(split=split, batch_size=64, shuffle=True, min_len=1, max_len=128)\n"
   ]
  },
  {
   "cell_type": "markdown",
   "metadata": {},
   "source": [
    "### Train"
   ]
  },
  {
   "cell_type": "code",
   "execution_count": 17,
   "metadata": {},
   "outputs": [],
   "source": [
    "# create the transformer model\n",
    "model = TransformerModel(vocab_size=tokenizer.get_vocab_size(), d_model=256, dim_feedforward=1024).to(DEVICE)\n",
    "optimizer = torch.optim.Adam(model.parameters(), lr=512**-0.5, betas=(0.9, 0.98), eps=1e-9)\n",
    "scheduler = torch.optim.lr_scheduler.LambdaLR(optimizer, lambda nstep: min((nstep + 1) ** -0.5, (nstep + 1) * 4000 ** -1.5))\n",
    "loss_fn = nn.CrossEntropyLoss() # could add label smoothing"
   ]
  },
  {
   "cell_type": "code",
   "execution_count": 7,
   "metadata": {},
   "outputs": [],
   "source": [
    "# load model\n",
    "# model.load_state_dict(torch.load(\"model_1.pth\"))"
   ]
  },
  {
   "cell_type": "code",
   "execution_count": 18,
   "metadata": {},
   "outputs": [
    {
     "name": "stdout",
     "output_type": "stream",
     "text": [
      "|===========================================================================|\n",
      "|                  PyTorch CUDA memory summary, device ID 0                 |\n",
      "|---------------------------------------------------------------------------|\n",
      "|            CUDA OOMs: 0            |        cudaMalloc retries: 0         |\n",
      "|===========================================================================|\n",
      "|        Metric         | Cur Usage  | Peak Usage | Tot Alloc  | Tot Freed  |\n",
      "|---------------------------------------------------------------------------|\n",
      "| Allocated memory      |   4112 MiB |   6607 MiB |   6075 GiB |   6071 GiB |\n",
      "|       from large pool |   3939 MiB |   6433 MiB |   6012 GiB |   6008 GiB |\n",
      "|       from small pool |    173 MiB |    298 MiB |     63 GiB |     62 GiB |\n",
      "|---------------------------------------------------------------------------|\n",
      "| Active memory         |   4112 MiB |   6607 MiB |   6075 GiB |   6071 GiB |\n",
      "|       from large pool |   3939 MiB |   6433 MiB |   6012 GiB |   6008 GiB |\n",
      "|       from small pool |    173 MiB |    298 MiB |     63 GiB |     62 GiB |\n",
      "|---------------------------------------------------------------------------|\n",
      "| Requested memory      |   4112 MiB |   6607 MiB |   6074 GiB |   6070 GiB |\n",
      "|       from large pool |   3939 MiB |   6433 MiB |   6011 GiB |   6007 GiB |\n",
      "|       from small pool |    173 MiB |    298 MiB |     63 GiB |     62 GiB |\n",
      "|---------------------------------------------------------------------------|\n",
      "| GPU reserved memory   |   4490 MiB |   9880 MiB |   9880 MiB |   5390 MiB |\n",
      "|       from large pool |   4314 MiB |   9580 MiB |   9580 MiB |   5266 MiB |\n",
      "|       from small pool |    176 MiB |    300 MiB |    300 MiB |    124 MiB |\n",
      "|---------------------------------------------------------------------------|\n",
      "| Non-releasable memory | 386462 KiB |   1290 MiB |   2404 GiB |   2404 GiB |\n",
      "|       from large pool | 383968 KiB |   1290 MiB |   2330 GiB |   2329 GiB |\n",
      "|       from small pool |   2494 KiB |      5 MiB |     74 GiB |     74 GiB |\n",
      "|---------------------------------------------------------------------------|\n",
      "| Allocations           |    1383    |    1839    |  587353    |  585970    |\n",
      "|       from large pool |     217    |     236    |  268259    |  268042    |\n",
      "|       from small pool |    1166    |    1816    |  319094    |  317928    |\n",
      "|---------------------------------------------------------------------------|\n",
      "| Active allocs         |    1383    |    1839    |  587353    |  585970    |\n",
      "|       from large pool |     217    |     236    |  268259    |  268042    |\n",
      "|       from small pool |    1166    |    1816    |  319094    |  317928    |\n",
      "|---------------------------------------------------------------------------|\n",
      "| GPU reserved segments |     199    |     272    |     272    |      73    |\n",
      "|       from large pool |     111    |     122    |     122    |      11    |\n",
      "|       from small pool |      88    |     150    |     150    |      62    |\n",
      "|---------------------------------------------------------------------------|\n",
      "| Non-releasable allocs |      48    |      63    |  267232    |  267184    |\n",
      "|       from large pool |      45    |      51    |  147088    |  147043    |\n",
      "|       from small pool |       3    |      24    |  120144    |  120141    |\n",
      "|---------------------------------------------------------------------------|\n",
      "| Oversize allocations  |       0    |       0    |       0    |       0    |\n",
      "|---------------------------------------------------------------------------|\n",
      "| Oversize GPU segments |       0    |       0    |       0    |       0    |\n",
      "|===========================================================================|\n",
      "\n"
     ]
    }
   ],
   "source": [
    "# free_memory(\"model\")\n",
    "free_memory()\n",
    "print(torch.cuda.memory_summary())"
   ]
  },
  {
   "cell_type": "code",
   "execution_count": 19,
   "metadata": {},
   "outputs": [],
   "source": [
    "# create the transformer wrapper\n",
    "transformer = Transformer(model, tokenizer)"
   ]
  },
  {
   "cell_type": "code",
   "execution_count": 20,
   "metadata": {},
   "outputs": [
    {
     "name": "stdout",
     "output_type": "stream",
     "text": [
      "-------------------------------\n",
      "Epoch 1/1\n",
      "Accuracy: 0.0%, Avg loss: 198.035095  [   64/45088]  [0:00:00 < 0:04:24]\n",
      "Accuracy: 0.0%, Avg loss: 60.436619  [ 6464/45088]  [0:00:11 < 0:01:10]\n",
      "Accuracy: 1.4%, Avg loss: 35.917984  [12864/45088]  [0:00:22 < 0:00:57]\n",
      "Accuracy: 3.3%, Avg loss: 31.883329  [19264/45088]  [0:00:34 < 0:00:46]\n",
      "Accuracy: 4.5%, Avg loss: 27.792080  [25664/45088]  [0:00:45 < 0:00:34]\n",
      "Accuracy: 6.9%, Avg loss: 26.025768  [32064/45088]  [0:00:57 < 0:00:23]\n",
      "Accuracy: 8.9%, Avg loss: 24.402964  [38464/45088]  [0:01:12 < 0:00:12]\n",
      "Accuracy: 8.5%, Avg loss: 23.224152  [44864/45088]  [0:01:24 < 0:00:00]\n",
      "Validation Error: \n",
      " Accuracy: 7.8%, Avg loss: 27.171804 \n",
      "\n",
      "Done!\n"
     ]
    }
   ],
   "source": [
    "transformer.train(dataloader, model, loss_fn, optimizer, scheduler)"
   ]
  },
  {
   "cell_type": "markdown",
   "metadata": {},
   "source": [
    "### Evaluate"
   ]
  },
  {
   "cell_type": "code",
   "execution_count": 72,
   "metadata": {},
   "outputs": [
    {
     "name": "stdout",
     "output_type": "stream",
     "text": [
      "Accuracy: 26.1%\n",
      "\u001b[32mThe\u001b[39m\n",
      "The \u001b[31msame\u001b[39m\n",
      "The Kl \u001b[31ms\u001b[39m\n",
      "The Kl user \u001b[31mand\u001b[39m\n",
      "The Kl user lights \u001b[31mand\u001b[39m\n",
      "The Kl user lights protect \u001b[31mthe\u001b[39m\n",
      "The Kl user lights protect cycl \u001b[31mand\u001b[39m\n",
      "The Kl user lights protect cycl ists \u001b[31mand\u001b[39m\n",
      "The Kl user lights protect cycl ists , \u001b[31mand\u001b[39m\n",
      "The Kl user lights protect cycl ists , as \u001b[32mwell\u001b[39m\n",
      "The Kl user lights protect cycl ists , as well \u001b[32mas\u001b[39m\n",
      "The Kl user lights protect cycl ists , as well as \u001b[31mthe\u001b[39m\n",
      "The Kl user lights protect cycl ists , as well as those \u001b[31mwho\u001b[39m\n",
      "The Kl user lights protect cycl ists , as well as those travelling \u001b[31mand\u001b[39m\n",
      "The Kl user lights protect cycl ists , as well as those travelling by \u001b[31mthe\u001b[39m\n",
      "The Kl user lights protect cycl ists , as well as those travelling by bus \u001b[31mh\u001b[39m\n",
      "The Kl user lights protect cycl ists , as well as those travelling by bus and \u001b[32mthe\u001b[39m\n",
      "The Kl user lights protect cycl ists , as well as those travelling by bus and the \u001b[31mother\u001b[39m\n",
      "The Kl user lights protect cycl ists , as well as those travelling by bus and the residents \u001b[31m.\u001b[39m\n",
      "The Kl user lights protect cycl ists , as well as those travelling by bus and the residents of \u001b[31mthe\u001b[39m\n",
      "The Kl user lights protect cycl ists , as well as those travelling by bus and the residents of Berg \u001b[31m.\u001b[39m\n",
      "The Kl user lights protect cycl ists , as well as those travelling by bus and the residents of Berg le \u001b[32m.\u001b[39m\n"
     ]
    }
   ],
   "source": [
    "sample = dataset.dataset[\"test\"][\"translation\"][5]\n",
    "transformer.predict(sample[\"de\"], sample[\"en\"])"
   ]
  },
  {
   "cell_type": "code",
   "execution_count": 73,
   "metadata": {},
   "outputs": [
    {
     "name": "stdout",
     "output_type": "stream",
     "text": [
      "I have a pleasure to make a clear distinction .\n"
     ]
    }
   ],
   "source": [
    "print(transformer.translate(\"Ich bin ein Berliner.\"))"
   ]
  },
  {
   "cell_type": "code",
   "execution_count": 74,
   "metadata": {},
   "outputs": [
    {
     "name": "stdout",
     "output_type": "stream",
     "text": [
      "#1\n",
      "Source: Gutach: Noch mehr Sicherheit für Fußgänger\n",
      "Target: Gutach: Increased safety for pedestrians\n",
      "Prediction: The Council is also a more important point .\n",
      "\n",
      "#2\n",
      "Source: Sie stehen keine 100 Meter voneinander entfernt: Am Dienstag ist in Gutach die neue B 33-Fußgängerampel am Dorfparkplatz in Betrieb genommen worden - in Sichtweite der älteren Rathausampel.\n",
      "Target: They are not even 100 metres apart: On Tuesday, the new B 33 pedestrian lights in Dorfparkplatz in Gutach became operational - within view of the existing Town Hall traffic lights.\n",
      "Prediction: You are not going to have the same resources , which you know : ' You are not being used in the new form of the new waste - in the new Sea .\n",
      "\n",
      "#3\n",
      "Source: Zwei Anlagen so nah beieinander: Absicht oder Schildbürgerstreich?\n",
      "Target: Two sets of lights so close to one another: intentional or just a silly error?\n",
      "Prediction: Thirdly , what are the same kind of or whether or not they are they going to be a good example ?\n",
      "\n",
      "#4\n",
      "Source: Diese Frage hat Gutachs Bürgermeister gestern klar beantwortet.\n",
      "Target: Yesterday, Gutacht's Mayor gave a clear answer to this question.\n",
      "Prediction: This issue has been raised by this question .\n",
      "\n",
      "#5\n",
      "Source: \"Die Rathausampel ist damals installiert worden, weil diese den Schulweg sichert\", erläuterte Eckert gestern.\n",
      "Target: \"At the time, the Town Hall traffic lights were installed because this was a school route,\" explained Eckert yesterday.\n",
      "Prediction: The only thing is that this disease was not the case of the Prestige .\n",
      "\n"
     ]
    }
   ],
   "source": [
    "for i in range(5):\n",
    "    samples = dataset.dataset[\"test\"][\"translation\"]\n",
    "    idx = np.random.randint(len(samples))\n",
    "    sample = samples[i]\n",
    "    print(f\"#{i+1}\")\n",
    "    print(f\"Source: {sample['de']}\")\n",
    "    print(f\"Target: {sample['en']}\")\n",
    "    print(f\"Prediction: {transformer.translate(sample['de'])}\")\n",
    "    print()"
   ]
  },
  {
   "cell_type": "markdown",
   "metadata": {},
   "source": [
    "## DEBUG"
   ]
  },
  {
   "cell_type": "code",
   "execution_count": 14,
   "metadata": {},
   "outputs": [
    {
     "name": "stdout",
     "output_type": "stream",
     "text": [
      "count: 14302156, tot: 14303264, percentage: 99.99%\n",
      "count: 14339828, tot: 14340777, percentage: 99.99%\n"
     ]
    }
   ],
   "source": [
    "for name in [\"src_len\", \"tgt_len\"]:\n",
    "    len_list = dataset.dataset[\"train\"][name]\n",
    "    tot = sum(len_list)\n",
    "    count = 0\n",
    "    for num in len_list:\n",
    "        if num <= 256:\n",
    "            count += num\n",
    "    print(f\"count: {count}, tot: {tot}, percentage: {count/tot*100:.2f}%\")"
   ]
  },
  {
   "cell_type": "code",
   "execution_count": 27,
   "metadata": {},
   "outputs": [
    {
     "name": "stdout",
     "output_type": "stream",
     "text": [
      "torch.Size([64, 128]) torch.Size([64, 128]) torch.Size([64, 128]) torch.Size([64, 128])\n",
      "torch.Size([64, 128, 256])\n"
     ]
    }
   ],
   "source": [
    "for batch in dataloader[\"train\"]:\n",
    "    x, x_mask, y, y_mask = batch.values()\n",
    "    print(x.shape, x_mask.shape, y.shape, y_mask.shape)\n",
    "    x = model.embedding(x.to(DEVICE))\n",
    "    print(x.shape)\n",
    "    break"
   ]
  },
  {
   "cell_type": "code",
   "execution_count": null,
   "metadata": {},
   "outputs": [],
   "source": []
  }
 ],
 "metadata": {
  "kernelspec": {
   "display_name": "learn-transformer",
   "language": "python",
   "name": "python3"
  },
  "language_info": {
   "codemirror_mode": {
    "name": "ipython",
    "version": 3
   },
   "file_extension": ".py",
   "mimetype": "text/x-python",
   "name": "python",
   "nbconvert_exporter": "python",
   "pygments_lexer": "ipython3",
   "version": "3.10.12"
  },
  "orig_nbformat": 4
 },
 "nbformat": 4,
 "nbformat_minor": 2
}
